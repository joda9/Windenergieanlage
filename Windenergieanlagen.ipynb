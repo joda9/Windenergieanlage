{
 "cells": [
  {
   "cell_type": "code",
   "execution_count": null,
   "id": "1e897826",
   "metadata": {},
   "outputs": [],
   "source": [
    "import matplotlib.pyplot as plt  \n",
    "import matplotlib.dates as mdates \n",
    "from matplotlib.backends.backend_tkagg import FigureCanvasTkAgg \n",
    "from wind_data_processing import * \n",
    "from calc_lcoe import * \n",
    "from scaling_battery import * \n",
    "from plots import * \n",
    "from interface import *"
   ]
  },
  {
   "cell_type": "markdown",
   "id": "272bcd98",
   "metadata": {},
   "source": [
    "## Userinput"
   ]
  },
  {
   "cell_type": "code",
   "execution_count": null,
   "id": "fbd2106d",
   "metadata": {},
   "outputs": [],
   "source": [
    "roughness_length, p_min, single_cell_energy, single_cell_cost, interest_rate, lifetime, capex, save_path_powerdata, data_power_curve_path, data_tech_path, data_wind_path = get_user_values()"
   ]
  },
  {
   "attachments": {},
   "cell_type": "markdown",
   "id": "c8ed3185",
   "metadata": {},
   "source": [
    "## stündliche Leistungsdaten berechnen\n"
   ]
  },
  {
   "cell_type": "code",
   "execution_count": null,
   "id": "1eb7c0c9",
   "metadata": {},
   "outputs": [],
   "source": [
    "data_wind = process_data(data_wind_path, data_power_curve_path, data_tech_path, save_path_powerdata, roughness_length)\n",
    "data_wind.to_excel(save_path_powerdata)"
   ]
  },
  {
   "attachments": {},
   "cell_type": "markdown",
   "id": "a196ad36",
   "metadata": {},
   "source": [
    "## LCOE berechnen"
   ]
  },
  {
   "cell_type": "code",
   "execution_count": null,
   "id": "bf648b28",
   "metadata": {},
   "outputs": [],
   "source": [
    "tech_lcoe = append_costs_df(capex, lifetime, interest_rate)\n",
    "tech_lcoe.to_excel(data_tech_path)"
   ]
  },
  {
   "attachments": {},
   "cell_type": "markdown",
   "id": "7895985f",
   "metadata": {},
   "source": [
    "## Scaling Battery\n"
   ]
  },
  {
   "cell_type": "code",
   "execution_count": null,
   "id": "2d273a9c",
   "metadata": {},
   "outputs": [],
   "source": [
    "tech_battery = calculate_battery_cost(p_min, single_cell_energy, single_cell_cost, data_tech_path)\n",
    "tech_battery.to_excel(data_tech_path)\n"
   ]
  },
  {
   "attachments": {},
   "cell_type": "markdown",
   "id": "5aff5405",
   "metadata": {},
   "source": [
    "## Plots"
   ]
  },
  {
   "cell_type": "code",
   "execution_count": null,
   "id": "ea01d201",
   "metadata": {},
   "outputs": [],
   "source": [
    "plot_all(data_tech_path,15)\n"
   ]
  }
 ],
 "metadata": {
  "kernelspec": {
   "display_name": "Python 3 (ipykernel)",
   "language": "python",
   "name": "python3"
  },
  "language_info": {
   "codemirror_mode": {
    "name": "ipython",
    "version": 3
   },
   "file_extension": ".py",
   "mimetype": "text/x-python",
   "name": "python",
   "nbconvert_exporter": "python",
   "pygments_lexer": "ipython3",
   "version": "3.11.4"
  }
 },
 "nbformat": 4,
 "nbformat_minor": 5
}
