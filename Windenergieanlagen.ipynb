{
 "cells": [
  {
   "cell_type": "code",
   "execution_count": null,
   "id": "1e897826",
   "metadata": {},
   "outputs": [],
   "source": [
    "import matplotlib.pyplot as plt  \n",
    "import matplotlib.dates as mdates \n",
    "from matplotlib.backends.backend_tkagg import FigureCanvasTkAgg \n",
    "from wind_data_processing import * \n",
    "from calc_lcoe import * \n",
    "from scaling_battery import * \n",
    "from plots import * \n",
    "\n",
    "\"\"\"\n",
    "Winddaten sowie technische Daten der Turbinen und Leistungskurven einlesen\n",
    "Anschließend werden aus den Daten die Leistungen der Turbinen stundengenau ermittelt\n",
    "\"\"\"\n",
    "data_wind_path = r'data/Wetterdaten_Wanna_Szenario_1.txt'  # Dateipfad zu den Wetterdaten\n",
    "save_path_powerdata = r'data/Wetterdaten_Wanna_Szenario_1.xlsx'     # Dateipfad zur Speicherung der Daten in einer xlsx\n",
    "data_power_curve_path = r'data/powercurves_interpolated.csv'  # Dateipfad zur Leistungskurve\n",
    "data_tech_path = 'data/technical_information.xlsx'  # Dateipfad zu den technischen Daten\n",
    "\n",
    "# hub_height = 80.0  # Nabenhöhe der Windenergieanlage\n",
    "roughness_length =      0.1  # Rauhigkeitslänge\n",
    "p_min =                 .300  #kW\n",
    "single_cell_energy =    5120 / 1000 # kWh\n",
    "single_cell_cost =      1700    # €\n",
    "interest_rate=          0.04    #\n",
    "lifetime=               20      # a\n",
    "capex=                  4500    # €/kW"
   ]
  },
  {
   "attachments": {},
   "cell_type": "markdown",
   "id": "c8ed3185",
   "metadata": {},
   "source": [
    "## stündliche Leistungsdaten berechnen\n"
   ]
  },
  {
   "cell_type": "code",
   "execution_count": null,
   "id": "1eb7c0c9",
   "metadata": {},
   "outputs": [],
   "source": [
    "data_wind = process_data(data_wind_path, data_power_curve_path, data_tech_path, save_path_powerdata, roughness_length)\n",
    "data_wind.to_excel(save_path_powerdata)"
   ]
  },
  {
   "attachments": {},
   "cell_type": "markdown",
   "id": "a196ad36",
   "metadata": {},
   "source": [
    "## LCOE berechnen"
   ]
  },
  {
   "cell_type": "code",
   "execution_count": null,
   "id": "bf648b28",
   "metadata": {},
   "outputs": [],
   "source": [
    "tech_lcoe = append_costs_df(capex, lifetime, interest_rate)\n",
    "tech_lcoe.to_excel(data_tech_path)"
   ]
  },
  {
   "attachments": {},
   "cell_type": "markdown",
   "id": "7895985f",
   "metadata": {},
   "source": [
    "## Scaling Battery\n"
   ]
  },
  {
   "cell_type": "code",
   "execution_count": null,
   "id": "2d273a9c",
   "metadata": {},
   "outputs": [],
   "source": [
    "tech_battery = calculate_battery_cost(p_min, single_cell_energy, single_cell_cost, data_tech_path)\n",
    "tech_battery.to_excel(data_tech_path)\n"
   ]
  },
  {
   "attachments": {},
   "cell_type": "markdown",
   "id": "5aff5405",
   "metadata": {},
   "source": [
    "## Plots"
   ]
  },
  {
   "cell_type": "code",
   "execution_count": null,
   "id": "ea01d201",
   "metadata": {},
   "outputs": [],
   "source": [
    "plot_all(data_tech_path,15)\n"
   ]
  },
  {
   "cell_type": "code",
   "execution_count": null,
   "id": "58c0c0ab",
   "metadata": {},
   "outputs": [],
   "source": []
  }
 ],
 "metadata": {
  "kernelspec": {
   "display_name": "Python 3 (ipykernel)",
   "language": "python",
   "name": "python3"
  },
  "language_info": {
   "codemirror_mode": {
    "name": "ipython",
    "version": 3
   },
   "file_extension": ".py",
   "mimetype": "text/x-python",
   "name": "python",
   "nbconvert_exporter": "python",
   "pygments_lexer": "ipython3",
   "version": "3.11.4"
  }
 },
 "nbformat": 4,
 "nbformat_minor": 5
}
